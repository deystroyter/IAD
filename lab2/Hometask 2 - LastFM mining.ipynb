{
 "cells": [
  {
   "cell_type": "markdown",
   "metadata": {},
   "source": [
    "# Last FM hometask <br>\n",
    "https://www.kaggle.com/ravichaubey1506/lastfm <br>\n",
    "1. Выбрать данные по странам своей группы (совместно): <br>\n",
    "    3530203_70101: Germany, Netherlands <br>\n",
    "    3530203_70102: Belarus, Ukraine, Poland, Russian Federation<br>\n",
    "    3530903_70301: Sweden, Finland, Norway, Denmark, Iceland<br>\n",
    "    3530903_70302: Spain, Portugal, France, Italy, Belgium<br>\n",
    "    \n",
    "2. Попытаться найти полезные с точки зрения продвижения групп (или еще чего-нибудь) и нетривиальные правила, используя алгоритмы Apriori, FPGrowth, FPMax и всевозможные метрики. Хотя бы 5 правил.\n",
    "3. Вывести эти правила в отдельных ячейках. \n",
    "4. Подумать, как можно было бы использовать полученные правила."
   ]
  },
  {
   "cell_type": "code",
   "execution_count": 36,
   "metadata": {},
   "outputs": [],
   "source": [
    "import pandas as pd"
   ]
  },
  {
   "cell_type": "code",
   "execution_count": 37,
   "metadata": {},
   "outputs": [
    {
     "data": {
      "text/plain": "   user                   artist sex  country\n0     1    red hot chili peppers   f  Germany\n1     1  the black dahlia murder   f  Germany\n2     1                goldfrapp   f  Germany\n3     1         dropkick murphys   f  Germany\n4     1                 le tigre   f  Germany",
      "text/html": "<div>\n<style scoped>\n    .dataframe tbody tr th:only-of-type {\n        vertical-align: middle;\n    }\n\n    .dataframe tbody tr th {\n        vertical-align: top;\n    }\n\n    .dataframe thead th {\n        text-align: right;\n    }\n</style>\n<table border=\"1\" class=\"dataframe\">\n  <thead>\n    <tr style=\"text-align: right;\">\n      <th></th>\n      <th>user</th>\n      <th>artist</th>\n      <th>sex</th>\n      <th>country</th>\n    </tr>\n  </thead>\n  <tbody>\n    <tr>\n      <th>0</th>\n      <td>1</td>\n      <td>red hot chili peppers</td>\n      <td>f</td>\n      <td>Germany</td>\n    </tr>\n    <tr>\n      <th>1</th>\n      <td>1</td>\n      <td>the black dahlia murder</td>\n      <td>f</td>\n      <td>Germany</td>\n    </tr>\n    <tr>\n      <th>2</th>\n      <td>1</td>\n      <td>goldfrapp</td>\n      <td>f</td>\n      <td>Germany</td>\n    </tr>\n    <tr>\n      <th>3</th>\n      <td>1</td>\n      <td>dropkick murphys</td>\n      <td>f</td>\n      <td>Germany</td>\n    </tr>\n    <tr>\n      <th>4</th>\n      <td>1</td>\n      <td>le tigre</td>\n      <td>f</td>\n      <td>Germany</td>\n    </tr>\n  </tbody>\n</table>\n</div>"
     },
     "execution_count": 37,
     "metadata": {},
     "output_type": "execute_result"
    }
   ],
   "source": [
    "data = pd.read_csv(\"lastfm.csv\")\n",
    "data.head()"
   ]
  },
  {
   "cell_type": "code",
   "execution_count": 38,
   "metadata": {},
   "outputs": [
    {
     "name": "stdout",
     "output_type": "stream",
     "text": [
      "<class 'pandas.core.frame.DataFrame'>\n",
      "RangeIndex: 289955 entries, 0 to 289954\n",
      "Data columns (total 4 columns):\n",
      " #   Column   Non-Null Count   Dtype \n",
      "---  ------   --------------   ----- \n",
      " 0   user     289955 non-null  int64 \n",
      " 1   artist   289955 non-null  object\n",
      " 2   sex      289955 non-null  object\n",
      " 3   country  289955 non-null  object\n",
      "dtypes: int64(1), object(3)\n",
      "memory usage: 8.8+ MB\n"
     ]
    },
    {
     "data": {
      "text/plain": "                user\ncount  289955.000000\nmean     9852.460447\nstd      5692.355041\nmin         1.000000\n25%      4935.000000\n50%      9838.000000\n75%     14769.000000\nmax     19718.000000",
      "text/html": "<div>\n<style scoped>\n    .dataframe tbody tr th:only-of-type {\n        vertical-align: middle;\n    }\n\n    .dataframe tbody tr th {\n        vertical-align: top;\n    }\n\n    .dataframe thead th {\n        text-align: right;\n    }\n</style>\n<table border=\"1\" class=\"dataframe\">\n  <thead>\n    <tr style=\"text-align: right;\">\n      <th></th>\n      <th>user</th>\n    </tr>\n  </thead>\n  <tbody>\n    <tr>\n      <th>count</th>\n      <td>289955.000000</td>\n    </tr>\n    <tr>\n      <th>mean</th>\n      <td>9852.460447</td>\n    </tr>\n    <tr>\n      <th>std</th>\n      <td>5692.355041</td>\n    </tr>\n    <tr>\n      <th>min</th>\n      <td>1.000000</td>\n    </tr>\n    <tr>\n      <th>25%</th>\n      <td>4935.000000</td>\n    </tr>\n    <tr>\n      <th>50%</th>\n      <td>9838.000000</td>\n    </tr>\n    <tr>\n      <th>75%</th>\n      <td>14769.000000</td>\n    </tr>\n    <tr>\n      <th>max</th>\n      <td>19718.000000</td>\n    </tr>\n  </tbody>\n</table>\n</div>"
     },
     "execution_count": 38,
     "metadata": {},
     "output_type": "execute_result"
    }
   ],
   "source": [
    "data.info()\n",
    "data.describe()\n",
    "#нет пустых значений"
   ]
  },
  {
   "cell_type": "code",
   "execution_count": 39,
   "metadata": {},
   "outputs": [],
   "source": [
    "countries = ['Spain', 'Portugal', 'France', 'Italy', 'Belgium']"
   ]
  },
  {
   "cell_type": "code",
   "execution_count": 40,
   "metadata": {},
   "outputs": [
    {
     "data": {
      "text/plain": "         user               artist sex   country\n83          6           lily allen   m  Portugal\n84          6           kanye west   m  Portugal\n85          6            sigur rós   m  Portugal\n86          6           pink floyd   m  Portugal\n87          6        stevie wonder   m  Portugal\n...       ...                  ...  ..       ...\n289758  19707     the decemberists   m     Spain\n289759  19707  my bloody valentine   m     Spain\n289760  19707           bloc party   m     Spain\n289761  19707            new order   m     Spain\n289762  19707       arctic monkeys   m     Spain\n\n[27214 rows x 4 columns]",
      "text/html": "<div>\n<style scoped>\n    .dataframe tbody tr th:only-of-type {\n        vertical-align: middle;\n    }\n\n    .dataframe tbody tr th {\n        vertical-align: top;\n    }\n\n    .dataframe thead th {\n        text-align: right;\n    }\n</style>\n<table border=\"1\" class=\"dataframe\">\n  <thead>\n    <tr style=\"text-align: right;\">\n      <th></th>\n      <th>user</th>\n      <th>artist</th>\n      <th>sex</th>\n      <th>country</th>\n    </tr>\n  </thead>\n  <tbody>\n    <tr>\n      <th>83</th>\n      <td>6</td>\n      <td>lily allen</td>\n      <td>m</td>\n      <td>Portugal</td>\n    </tr>\n    <tr>\n      <th>84</th>\n      <td>6</td>\n      <td>kanye west</td>\n      <td>m</td>\n      <td>Portugal</td>\n    </tr>\n    <tr>\n      <th>85</th>\n      <td>6</td>\n      <td>sigur rós</td>\n      <td>m</td>\n      <td>Portugal</td>\n    </tr>\n    <tr>\n      <th>86</th>\n      <td>6</td>\n      <td>pink floyd</td>\n      <td>m</td>\n      <td>Portugal</td>\n    </tr>\n    <tr>\n      <th>87</th>\n      <td>6</td>\n      <td>stevie wonder</td>\n      <td>m</td>\n      <td>Portugal</td>\n    </tr>\n    <tr>\n      <th>...</th>\n      <td>...</td>\n      <td>...</td>\n      <td>...</td>\n      <td>...</td>\n    </tr>\n    <tr>\n      <th>289758</th>\n      <td>19707</td>\n      <td>the decemberists</td>\n      <td>m</td>\n      <td>Spain</td>\n    </tr>\n    <tr>\n      <th>289759</th>\n      <td>19707</td>\n      <td>my bloody valentine</td>\n      <td>m</td>\n      <td>Spain</td>\n    </tr>\n    <tr>\n      <th>289760</th>\n      <td>19707</td>\n      <td>bloc party</td>\n      <td>m</td>\n      <td>Spain</td>\n    </tr>\n    <tr>\n      <th>289761</th>\n      <td>19707</td>\n      <td>new order</td>\n      <td>m</td>\n      <td>Spain</td>\n    </tr>\n    <tr>\n      <th>289762</th>\n      <td>19707</td>\n      <td>arctic monkeys</td>\n      <td>m</td>\n      <td>Spain</td>\n    </tr>\n  </tbody>\n</table>\n<p>27214 rows × 4 columns</p>\n</div>"
     },
     "execution_count": 40,
     "metadata": {},
     "output_type": "execute_result"
    }
   ],
   "source": [
    "#оставили в датасете нужные страны\n",
    "data = data.loc[data['country'].isin(countries)]\n",
    "data"
   ]
  },
  {
   "cell_type": "code",
   "execution_count": 41,
   "metadata": {},
   "outputs": [
    {
     "data": {
      "text/plain": "         user               artist sex   country\n83          6           lily allen   m  Portugal\n84          6           kanye west   m  Portugal\n85          6            sigur rós   m  Portugal\n86          6           pink floyd   m  Portugal\n87          6        stevie wonder   m  Portugal\n...       ...                  ...  ..       ...\n289758  19707     the decemberists   m     Spain\n289759  19707  my bloody valentine   m     Spain\n289760  19707           bloc party   m     Spain\n289761  19707            new order   m     Spain\n289762  19707       arctic monkeys   m     Spain\n\n[27155 rows x 4 columns]",
      "text/html": "<div>\n<style scoped>\n    .dataframe tbody tr th:only-of-type {\n        vertical-align: middle;\n    }\n\n    .dataframe tbody tr th {\n        vertical-align: top;\n    }\n\n    .dataframe thead th {\n        text-align: right;\n    }\n</style>\n<table border=\"1\" class=\"dataframe\">\n  <thead>\n    <tr style=\"text-align: right;\">\n      <th></th>\n      <th>user</th>\n      <th>artist</th>\n      <th>sex</th>\n      <th>country</th>\n    </tr>\n  </thead>\n  <tbody>\n    <tr>\n      <th>83</th>\n      <td>6</td>\n      <td>lily allen</td>\n      <td>m</td>\n      <td>Portugal</td>\n    </tr>\n    <tr>\n      <th>84</th>\n      <td>6</td>\n      <td>kanye west</td>\n      <td>m</td>\n      <td>Portugal</td>\n    </tr>\n    <tr>\n      <th>85</th>\n      <td>6</td>\n      <td>sigur rós</td>\n      <td>m</td>\n      <td>Portugal</td>\n    </tr>\n    <tr>\n      <th>86</th>\n      <td>6</td>\n      <td>pink floyd</td>\n      <td>m</td>\n      <td>Portugal</td>\n    </tr>\n    <tr>\n      <th>87</th>\n      <td>6</td>\n      <td>stevie wonder</td>\n      <td>m</td>\n      <td>Portugal</td>\n    </tr>\n    <tr>\n      <th>...</th>\n      <td>...</td>\n      <td>...</td>\n      <td>...</td>\n      <td>...</td>\n    </tr>\n    <tr>\n      <th>289758</th>\n      <td>19707</td>\n      <td>the decemberists</td>\n      <td>m</td>\n      <td>Spain</td>\n    </tr>\n    <tr>\n      <th>289759</th>\n      <td>19707</td>\n      <td>my bloody valentine</td>\n      <td>m</td>\n      <td>Spain</td>\n    </tr>\n    <tr>\n      <th>289760</th>\n      <td>19707</td>\n      <td>bloc party</td>\n      <td>m</td>\n      <td>Spain</td>\n    </tr>\n    <tr>\n      <th>289761</th>\n      <td>19707</td>\n      <td>new order</td>\n      <td>m</td>\n      <td>Spain</td>\n    </tr>\n    <tr>\n      <th>289762</th>\n      <td>19707</td>\n      <td>arctic monkeys</td>\n      <td>m</td>\n      <td>Spain</td>\n    </tr>\n  </tbody>\n</table>\n<p>27155 rows × 4 columns</p>\n</div>"
     },
     "execution_count": 41,
     "metadata": {},
     "output_type": "execute_result"
    }
   ],
   "source": [
    "#удалим строки с артистом '[unknown]'\n",
    "data = data.drop(data[data['artist']=='[unknown]'].index)\n",
    "data"
   ]
  },
  {
   "cell_type": "code",
   "execution_count": 42,
   "metadata": {},
   "outputs": [
    {
     "data": {
      "text/plain": "       user   country                                             artist\n0         6  Portugal  lily allen,kanye west,sigur rós,pink floyd,ste...\n1        12     Italy  queen,the beatles,lynyrd skynyrd,neil young,th...\n2        36     Italy  m.i.a.,fugazi,johnny cash,clint mansell,elton ...\n3        47     Italy  pj harvey,radiohead,zero 7,einstürzende neubau...\n4        74     Spain  in extremo,nine inch nails,billy talent,panic!...\n...     ...       ...                                                ...\n1412  19690     Italy  pink floyd,the beatles,the white stripes,depec...\n1413  19693   Belgium  air,simon & garfunkel,pixies,serge gainsbourg,...\n1414  19697   Belgium  underworld,pendulum,the prodigy,sufjan stevens...\n1415  19704     Italy  keane,pinback,coldplay,travis,calexico,doves,d...\n1416  19707     Spain  bat for lashes,mogwai,arcade fire,cat power,th...\n\n[1417 rows x 3 columns]",
      "text/html": "<div>\n<style scoped>\n    .dataframe tbody tr th:only-of-type {\n        vertical-align: middle;\n    }\n\n    .dataframe tbody tr th {\n        vertical-align: top;\n    }\n\n    .dataframe thead th {\n        text-align: right;\n    }\n</style>\n<table border=\"1\" class=\"dataframe\">\n  <thead>\n    <tr style=\"text-align: right;\">\n      <th></th>\n      <th>user</th>\n      <th>country</th>\n      <th>artist</th>\n    </tr>\n  </thead>\n  <tbody>\n    <tr>\n      <th>0</th>\n      <td>6</td>\n      <td>Portugal</td>\n      <td>lily allen,kanye west,sigur rós,pink floyd,ste...</td>\n    </tr>\n    <tr>\n      <th>1</th>\n      <td>12</td>\n      <td>Italy</td>\n      <td>queen,the beatles,lynyrd skynyrd,neil young,th...</td>\n    </tr>\n    <tr>\n      <th>2</th>\n      <td>36</td>\n      <td>Italy</td>\n      <td>m.i.a.,fugazi,johnny cash,clint mansell,elton ...</td>\n    </tr>\n    <tr>\n      <th>3</th>\n      <td>47</td>\n      <td>Italy</td>\n      <td>pj harvey,radiohead,zero 7,einstürzende neubau...</td>\n    </tr>\n    <tr>\n      <th>4</th>\n      <td>74</td>\n      <td>Spain</td>\n      <td>in extremo,nine inch nails,billy talent,panic!...</td>\n    </tr>\n    <tr>\n      <th>...</th>\n      <td>...</td>\n      <td>...</td>\n      <td>...</td>\n    </tr>\n    <tr>\n      <th>1412</th>\n      <td>19690</td>\n      <td>Italy</td>\n      <td>pink floyd,the beatles,the white stripes,depec...</td>\n    </tr>\n    <tr>\n      <th>1413</th>\n      <td>19693</td>\n      <td>Belgium</td>\n      <td>air,simon &amp; garfunkel,pixies,serge gainsbourg,...</td>\n    </tr>\n    <tr>\n      <th>1414</th>\n      <td>19697</td>\n      <td>Belgium</td>\n      <td>underworld,pendulum,the prodigy,sufjan stevens...</td>\n    </tr>\n    <tr>\n      <th>1415</th>\n      <td>19704</td>\n      <td>Italy</td>\n      <td>keane,pinback,coldplay,travis,calexico,doves,d...</td>\n    </tr>\n    <tr>\n      <th>1416</th>\n      <td>19707</td>\n      <td>Spain</td>\n      <td>bat for lashes,mogwai,arcade fire,cat power,th...</td>\n    </tr>\n  </tbody>\n</table>\n<p>1417 rows × 3 columns</p>\n</div>"
     },
     "execution_count": 42,
     "metadata": {},
     "output_type": "execute_result"
    }
   ],
   "source": [
    "data_by_invoice = data.groupby(['user', 'country'])['artist'].apply(lambda x: ','.join(x)).reset_index()\n",
    "data_by_invoice"
   ]
  },
  {
   "cell_type": "code",
   "execution_count": 43,
   "metadata": {},
   "outputs": [
    {
     "data": {
      "text/plain": "       Belgium  France  Italy  Portugal  Spain  \\\nuser                                             \n6            0       0      0         1      0   \n12           0       0      1         0      0   \n36           0       0      1         0      0   \n47           0       0      1         0      0   \n74           0       0      0         0      1   \n...        ...     ...    ...       ...    ...   \n19690        0       0      1         0      0   \n19693        1       0      0         0      0   \n19697        1       0      0         0      0   \n19704        0       0      1         0      0   \n19707        0       0      0         0      1   \n\n       ...and you will know us by the trail of dead  2pac  3 doors down  \\\nuser                                                                      \n6                                                 0     0             0   \n12                                                0     0             0   \n36                                                0     0             0   \n47                                                0     0             0   \n74                                                0     0             0   \n...                                             ...   ...           ...   \n19690                                             0     0             0   \n19693                                             0     0             0   \n19697                                             0     0             0   \n19704                                             0     0             0   \n19707                                             0     0             0   \n\n       30 seconds to mars  311  ...  wilco  within temptation  \\\nuser                            ...                             \n6                       0    0  ...      0                  0   \n12                      0    0  ...      0                  0   \n36                      0    0  ...      0                  0   \n47                      0    0  ...      0                  0   \n74                      0    0  ...      0                  0   \n...                   ...  ...  ...    ...                ...   \n19690                   0    0  ...      0                  0   \n19693                   0    0  ...      0                  0   \n19697                   0    0  ...      0                  0   \n19704                   0    0  ...      0                  0   \n19707                   0    0  ...      0                  0   \n\n       wolfgang amadeus mozart  wu-tang clan  yann tiersen  yeah yeah yeahs  \\\nuser                                                                          \n6                            0             0             0                0   \n12                           0             0             0                0   \n36                           0             0             0                0   \n47                           0             0             0                0   \n74                           0             0             0                0   \n...                        ...           ...           ...              ...   \n19690                        0             0             0                0   \n19693                        0             0             0                0   \n19697                        0             0             0                0   \n19704                        0             0             0                0   \n19707                        0             0             0                0   \n\n       yellowcard  yo la tengo  zero 7  Édith piaf  \nuser                                                \n6               0            0       0           0  \n12              0            0       0           0  \n36              0            0       0           0  \n47              0            0       1           0  \n74              0            0       0           0  \n...           ...          ...     ...         ...  \n19690           0            0       0           0  \n19693           0            0       0           0  \n19697           0            0       0           0  \n19704           0            0       0           0  \n19707           0            0       0           0  \n\n[1417 rows x 998 columns]",
      "text/html": "<div>\n<style scoped>\n    .dataframe tbody tr th:only-of-type {\n        vertical-align: middle;\n    }\n\n    .dataframe tbody tr th {\n        vertical-align: top;\n    }\n\n    .dataframe thead th {\n        text-align: right;\n    }\n</style>\n<table border=\"1\" class=\"dataframe\">\n  <thead>\n    <tr style=\"text-align: right;\">\n      <th></th>\n      <th>Belgium</th>\n      <th>France</th>\n      <th>Italy</th>\n      <th>Portugal</th>\n      <th>Spain</th>\n      <th>...and you will know us by the trail of dead</th>\n      <th>2pac</th>\n      <th>3 doors down</th>\n      <th>30 seconds to mars</th>\n      <th>311</th>\n      <th>...</th>\n      <th>wilco</th>\n      <th>within temptation</th>\n      <th>wolfgang amadeus mozart</th>\n      <th>wu-tang clan</th>\n      <th>yann tiersen</th>\n      <th>yeah yeah yeahs</th>\n      <th>yellowcard</th>\n      <th>yo la tengo</th>\n      <th>zero 7</th>\n      <th>Édith piaf</th>\n    </tr>\n    <tr>\n      <th>user</th>\n      <th></th>\n      <th></th>\n      <th></th>\n      <th></th>\n      <th></th>\n      <th></th>\n      <th></th>\n      <th></th>\n      <th></th>\n      <th></th>\n      <th></th>\n      <th></th>\n      <th></th>\n      <th></th>\n      <th></th>\n      <th></th>\n      <th></th>\n      <th></th>\n      <th></th>\n      <th></th>\n      <th></th>\n    </tr>\n  </thead>\n  <tbody>\n    <tr>\n      <th>6</th>\n      <td>0</td>\n      <td>0</td>\n      <td>0</td>\n      <td>1</td>\n      <td>0</td>\n      <td>0</td>\n      <td>0</td>\n      <td>0</td>\n      <td>0</td>\n      <td>0</td>\n      <td>...</td>\n      <td>0</td>\n      <td>0</td>\n      <td>0</td>\n      <td>0</td>\n      <td>0</td>\n      <td>0</td>\n      <td>0</td>\n      <td>0</td>\n      <td>0</td>\n      <td>0</td>\n    </tr>\n    <tr>\n      <th>12</th>\n      <td>0</td>\n      <td>0</td>\n      <td>1</td>\n      <td>0</td>\n      <td>0</td>\n      <td>0</td>\n      <td>0</td>\n      <td>0</td>\n      <td>0</td>\n      <td>0</td>\n      <td>...</td>\n      <td>0</td>\n      <td>0</td>\n      <td>0</td>\n      <td>0</td>\n      <td>0</td>\n      <td>0</td>\n      <td>0</td>\n      <td>0</td>\n      <td>0</td>\n      <td>0</td>\n    </tr>\n    <tr>\n      <th>36</th>\n      <td>0</td>\n      <td>0</td>\n      <td>1</td>\n      <td>0</td>\n      <td>0</td>\n      <td>0</td>\n      <td>0</td>\n      <td>0</td>\n      <td>0</td>\n      <td>0</td>\n      <td>...</td>\n      <td>0</td>\n      <td>0</td>\n      <td>0</td>\n      <td>0</td>\n      <td>0</td>\n      <td>0</td>\n      <td>0</td>\n      <td>0</td>\n      <td>0</td>\n      <td>0</td>\n    </tr>\n    <tr>\n      <th>47</th>\n      <td>0</td>\n      <td>0</td>\n      <td>1</td>\n      <td>0</td>\n      <td>0</td>\n      <td>0</td>\n      <td>0</td>\n      <td>0</td>\n      <td>0</td>\n      <td>0</td>\n      <td>...</td>\n      <td>0</td>\n      <td>0</td>\n      <td>0</td>\n      <td>0</td>\n      <td>0</td>\n      <td>0</td>\n      <td>0</td>\n      <td>0</td>\n      <td>1</td>\n      <td>0</td>\n    </tr>\n    <tr>\n      <th>74</th>\n      <td>0</td>\n      <td>0</td>\n      <td>0</td>\n      <td>0</td>\n      <td>1</td>\n      <td>0</td>\n      <td>0</td>\n      <td>0</td>\n      <td>0</td>\n      <td>0</td>\n      <td>...</td>\n      <td>0</td>\n      <td>0</td>\n      <td>0</td>\n      <td>0</td>\n      <td>0</td>\n      <td>0</td>\n      <td>0</td>\n      <td>0</td>\n      <td>0</td>\n      <td>0</td>\n    </tr>\n    <tr>\n      <th>...</th>\n      <td>...</td>\n      <td>...</td>\n      <td>...</td>\n      <td>...</td>\n      <td>...</td>\n      <td>...</td>\n      <td>...</td>\n      <td>...</td>\n      <td>...</td>\n      <td>...</td>\n      <td>...</td>\n      <td>...</td>\n      <td>...</td>\n      <td>...</td>\n      <td>...</td>\n      <td>...</td>\n      <td>...</td>\n      <td>...</td>\n      <td>...</td>\n      <td>...</td>\n      <td>...</td>\n    </tr>\n    <tr>\n      <th>19690</th>\n      <td>0</td>\n      <td>0</td>\n      <td>1</td>\n      <td>0</td>\n      <td>0</td>\n      <td>0</td>\n      <td>0</td>\n      <td>0</td>\n      <td>0</td>\n      <td>0</td>\n      <td>...</td>\n      <td>0</td>\n      <td>0</td>\n      <td>0</td>\n      <td>0</td>\n      <td>0</td>\n      <td>0</td>\n      <td>0</td>\n      <td>0</td>\n      <td>0</td>\n      <td>0</td>\n    </tr>\n    <tr>\n      <th>19693</th>\n      <td>1</td>\n      <td>0</td>\n      <td>0</td>\n      <td>0</td>\n      <td>0</td>\n      <td>0</td>\n      <td>0</td>\n      <td>0</td>\n      <td>0</td>\n      <td>0</td>\n      <td>...</td>\n      <td>0</td>\n      <td>0</td>\n      <td>0</td>\n      <td>0</td>\n      <td>0</td>\n      <td>0</td>\n      <td>0</td>\n      <td>0</td>\n      <td>0</td>\n      <td>0</td>\n    </tr>\n    <tr>\n      <th>19697</th>\n      <td>1</td>\n      <td>0</td>\n      <td>0</td>\n      <td>0</td>\n      <td>0</td>\n      <td>0</td>\n      <td>0</td>\n      <td>0</td>\n      <td>0</td>\n      <td>0</td>\n      <td>...</td>\n      <td>0</td>\n      <td>0</td>\n      <td>0</td>\n      <td>0</td>\n      <td>0</td>\n      <td>0</td>\n      <td>0</td>\n      <td>0</td>\n      <td>0</td>\n      <td>0</td>\n    </tr>\n    <tr>\n      <th>19704</th>\n      <td>0</td>\n      <td>0</td>\n      <td>1</td>\n      <td>0</td>\n      <td>0</td>\n      <td>0</td>\n      <td>0</td>\n      <td>0</td>\n      <td>0</td>\n      <td>0</td>\n      <td>...</td>\n      <td>0</td>\n      <td>0</td>\n      <td>0</td>\n      <td>0</td>\n      <td>0</td>\n      <td>0</td>\n      <td>0</td>\n      <td>0</td>\n      <td>0</td>\n      <td>0</td>\n    </tr>\n    <tr>\n      <th>19707</th>\n      <td>0</td>\n      <td>0</td>\n      <td>0</td>\n      <td>0</td>\n      <td>1</td>\n      <td>0</td>\n      <td>0</td>\n      <td>0</td>\n      <td>0</td>\n      <td>0</td>\n      <td>...</td>\n      <td>0</td>\n      <td>0</td>\n      <td>0</td>\n      <td>0</td>\n      <td>0</td>\n      <td>0</td>\n      <td>0</td>\n      <td>0</td>\n      <td>0</td>\n      <td>0</td>\n    </tr>\n  </tbody>\n</table>\n<p>1417 rows × 998 columns</p>\n</div>"
     },
     "execution_count": 43,
     "metadata": {},
     "output_type": "execute_result"
    }
   ],
   "source": [
    "data = pd.concat([data_by_invoice.drop(['country','artist'], axis=1), \n",
    "                             pd.get_dummies(data_by_invoice['country']),\n",
    "                             data_by_invoice['artist'].str.get_dummies(',')\n",
    "                            ], axis = 1).set_index(['user'])\n",
    "data"
   ]
  },
  {
   "cell_type": "markdown",
   "metadata": {},
   "source": [
    "## Работа с правилами"
   ]
  },
  {
   "cell_type": "code",
   "execution_count": 44,
   "metadata": {},
   "outputs": [
    {
     "data": {
      "text/plain": "      support                           itemsets\n0    0.112915                          (Belgium)\n1    0.230769                           (France)\n2    0.214538                            (Italy)\n3    0.086097                         (Portugal)\n4    0.355681                            (Spain)\n..        ...                                ...\n307  0.035992  (the beatles, the rolling stones)\n308  0.031757         (the beatles, the strokes)\n309  0.039520         (the killers, the strokes)\n310  0.031757     (coldplay, the killers, Spain)\n311  0.038814        (muse, coldplay, radiohead)\n\n[312 rows x 2 columns]",
      "text/html": "<div>\n<style scoped>\n    .dataframe tbody tr th:only-of-type {\n        vertical-align: middle;\n    }\n\n    .dataframe tbody tr th {\n        vertical-align: top;\n    }\n\n    .dataframe thead th {\n        text-align: right;\n    }\n</style>\n<table border=\"1\" class=\"dataframe\">\n  <thead>\n    <tr style=\"text-align: right;\">\n      <th></th>\n      <th>support</th>\n      <th>itemsets</th>\n    </tr>\n  </thead>\n  <tbody>\n    <tr>\n      <th>0</th>\n      <td>0.112915</td>\n      <td>(Belgium)</td>\n    </tr>\n    <tr>\n      <th>1</th>\n      <td>0.230769</td>\n      <td>(France)</td>\n    </tr>\n    <tr>\n      <th>2</th>\n      <td>0.214538</td>\n      <td>(Italy)</td>\n    </tr>\n    <tr>\n      <th>3</th>\n      <td>0.086097</td>\n      <td>(Portugal)</td>\n    </tr>\n    <tr>\n      <th>4</th>\n      <td>0.355681</td>\n      <td>(Spain)</td>\n    </tr>\n    <tr>\n      <th>...</th>\n      <td>...</td>\n      <td>...</td>\n    </tr>\n    <tr>\n      <th>307</th>\n      <td>0.035992</td>\n      <td>(the beatles, the rolling stones)</td>\n    </tr>\n    <tr>\n      <th>308</th>\n      <td>0.031757</td>\n      <td>(the beatles, the strokes)</td>\n    </tr>\n    <tr>\n      <th>309</th>\n      <td>0.039520</td>\n      <td>(the killers, the strokes)</td>\n    </tr>\n    <tr>\n      <th>310</th>\n      <td>0.031757</td>\n      <td>(coldplay, the killers, Spain)</td>\n    </tr>\n    <tr>\n      <th>311</th>\n      <td>0.038814</td>\n      <td>(muse, coldplay, radiohead)</td>\n    </tr>\n  </tbody>\n</table>\n<p>312 rows × 2 columns</p>\n</div>"
     },
     "execution_count": 44,
     "metadata": {},
     "output_type": "execute_result"
    }
   ],
   "source": [
    "from mlxtend.frequent_patterns import apriori, association_rules\n",
    "frequent_itemsets_apriori = apriori(data, min_support=0.03, use_colnames=True)\n",
    "frequent_itemsets_apriori"
   ]
  },
  {
   "cell_type": "code",
   "execution_count": 45,
   "metadata": {},
   "outputs": [
    {
     "data": {
      "text/plain": "    support        itemsets\n0  0.174312          (muse)\n1  0.130558    (pink floyd)\n2  0.123500     (metallica)\n3  0.096683  (depeche mode)\n4  0.088215            (u2)",
      "text/html": "<div>\n<style scoped>\n    .dataframe tbody tr th:only-of-type {\n        vertical-align: middle;\n    }\n\n    .dataframe tbody tr th {\n        vertical-align: top;\n    }\n\n    .dataframe thead th {\n        text-align: right;\n    }\n</style>\n<table border=\"1\" class=\"dataframe\">\n  <thead>\n    <tr style=\"text-align: right;\">\n      <th></th>\n      <th>support</th>\n      <th>itemsets</th>\n    </tr>\n  </thead>\n  <tbody>\n    <tr>\n      <th>0</th>\n      <td>0.174312</td>\n      <td>(muse)</td>\n    </tr>\n    <tr>\n      <th>1</th>\n      <td>0.130558</td>\n      <td>(pink floyd)</td>\n    </tr>\n    <tr>\n      <th>2</th>\n      <td>0.123500</td>\n      <td>(metallica)</td>\n    </tr>\n    <tr>\n      <th>3</th>\n      <td>0.096683</td>\n      <td>(depeche mode)</td>\n    </tr>\n    <tr>\n      <th>4</th>\n      <td>0.088215</td>\n      <td>(u2)</td>\n    </tr>\n  </tbody>\n</table>\n</div>"
     },
     "execution_count": 45,
     "metadata": {},
     "output_type": "execute_result"
    }
   ],
   "source": [
    "from mlxtend.frequent_patterns import fpgrowth\n",
    "frequent_itemsets_fpgrowth = fpgrowth(data, min_support=0.05, use_colnames=True)\n",
    "frequent_itemsets_fpgrowth.head()"
   ]
  },
  {
   "cell_type": "code",
   "execution_count": 46,
   "metadata": {},
   "outputs": [
    {
     "data": {
      "text/plain": "      support                    itemsets\n0    0.040226                   (rihanna)\n1    0.040226                      (deus)\n2    0.040226               (miles davis)\n3    0.040932                      (koЯn)\n4    0.042343  (bob marley & the wailers)\n..        ...                         ...\n125  0.071277           (coldplay, Spain)\n126  0.083275       (coldplay, radiohead)\n127  0.060692          (Italy, radiohead)\n128  0.062103         (France, radiohead)\n129  0.062809          (Spain, radiohead)\n\n[130 rows x 2 columns]",
      "text/html": "<div>\n<style scoped>\n    .dataframe tbody tr th:only-of-type {\n        vertical-align: middle;\n    }\n\n    .dataframe tbody tr th {\n        vertical-align: top;\n    }\n\n    .dataframe thead th {\n        text-align: right;\n    }\n</style>\n<table border=\"1\" class=\"dataframe\">\n  <thead>\n    <tr style=\"text-align: right;\">\n      <th></th>\n      <th>support</th>\n      <th>itemsets</th>\n    </tr>\n  </thead>\n  <tbody>\n    <tr>\n      <th>0</th>\n      <td>0.040226</td>\n      <td>(rihanna)</td>\n    </tr>\n    <tr>\n      <th>1</th>\n      <td>0.040226</td>\n      <td>(deus)</td>\n    </tr>\n    <tr>\n      <th>2</th>\n      <td>0.040226</td>\n      <td>(miles davis)</td>\n    </tr>\n    <tr>\n      <th>3</th>\n      <td>0.040932</td>\n      <td>(koЯn)</td>\n    </tr>\n    <tr>\n      <th>4</th>\n      <td>0.042343</td>\n      <td>(bob marley &amp; the wailers)</td>\n    </tr>\n    <tr>\n      <th>...</th>\n      <td>...</td>\n      <td>...</td>\n    </tr>\n    <tr>\n      <th>125</th>\n      <td>0.071277</td>\n      <td>(coldplay, Spain)</td>\n    </tr>\n    <tr>\n      <th>126</th>\n      <td>0.083275</td>\n      <td>(coldplay, radiohead)</td>\n    </tr>\n    <tr>\n      <th>127</th>\n      <td>0.060692</td>\n      <td>(Italy, radiohead)</td>\n    </tr>\n    <tr>\n      <th>128</th>\n      <td>0.062103</td>\n      <td>(France, radiohead)</td>\n    </tr>\n    <tr>\n      <th>129</th>\n      <td>0.062809</td>\n      <td>(Spain, radiohead)</td>\n    </tr>\n  </tbody>\n</table>\n<p>130 rows × 2 columns</p>\n</div>"
     },
     "execution_count": 46,
     "metadata": {},
     "output_type": "execute_result"
    }
   ],
   "source": [
    "from mlxtend.frequent_patterns import fpmax\n",
    "frequent_itemsets_fpmax = fpmax(data, min_support=0.04, use_colnames=True)\n",
    "frequent_itemsets_fpmax"
   ]
  },
  {
   "cell_type": "code",
   "execution_count": 47,
   "metadata": {},
   "outputs": [
    {
     "data": {
      "text/plain": "           antecedents        consequents  antecedent support  \\\n168    (kaiser chiefs)  (franz ferdinand)            0.050812   \n169  (franz ferdinand)    (kaiser chiefs)            0.095977   \n188    (kaiser chiefs)      (the killers)            0.050812   \n189      (the killers)    (kaiser chiefs)            0.110092   \n105       (bloc party)         (interpol)            0.083275   \n..                 ...                ...                 ...   \n52           (nirvana)            (Spain)            0.124912   \n48         (metallica)            (Spain)            0.123500   \n49             (Spain)        (metallica)            0.355681   \n61         (radiohead)            (Spain)            0.237826   \n60             (Spain)        (radiohead)            0.355681   \n\n     consequent support   support  confidence      lift  leverage  conviction  \n168            0.095977  0.030346    0.597222  6.222529  0.025469    2.244470  \n169            0.050812  0.030346    0.316176  6.222529  0.025469    1.388060  \n188            0.110092  0.031052    0.611111  5.550926  0.025458    2.288336  \n189            0.050812  0.031052    0.282051  5.550926  0.025458    1.322084  \n105            0.079746  0.032463    0.389831  4.888406  0.025822    1.508194  \n..                  ...       ...         ...       ...       ...         ...  \n52             0.355681  0.037403    0.299435  0.841864 -0.007026    0.919713  \n48             0.355681  0.035286    0.285714  0.803288 -0.008641    0.902047  \n49             0.123500  0.035286    0.099206  0.803288 -0.008641    0.973030  \n61             0.355681  0.062809    0.264095  0.742505 -0.021782    0.875546  \n60             0.237826  0.062809    0.176587  0.742505 -0.021782    0.925628  \n\n[294 rows x 9 columns]",
      "text/html": "<div>\n<style scoped>\n    .dataframe tbody tr th:only-of-type {\n        vertical-align: middle;\n    }\n\n    .dataframe tbody tr th {\n        vertical-align: top;\n    }\n\n    .dataframe thead th {\n        text-align: right;\n    }\n</style>\n<table border=\"1\" class=\"dataframe\">\n  <thead>\n    <tr style=\"text-align: right;\">\n      <th></th>\n      <th>antecedents</th>\n      <th>consequents</th>\n      <th>antecedent support</th>\n      <th>consequent support</th>\n      <th>support</th>\n      <th>confidence</th>\n      <th>lift</th>\n      <th>leverage</th>\n      <th>conviction</th>\n    </tr>\n  </thead>\n  <tbody>\n    <tr>\n      <th>168</th>\n      <td>(kaiser chiefs)</td>\n      <td>(franz ferdinand)</td>\n      <td>0.050812</td>\n      <td>0.095977</td>\n      <td>0.030346</td>\n      <td>0.597222</td>\n      <td>6.222529</td>\n      <td>0.025469</td>\n      <td>2.244470</td>\n    </tr>\n    <tr>\n      <th>169</th>\n      <td>(franz ferdinand)</td>\n      <td>(kaiser chiefs)</td>\n      <td>0.095977</td>\n      <td>0.050812</td>\n      <td>0.030346</td>\n      <td>0.316176</td>\n      <td>6.222529</td>\n      <td>0.025469</td>\n      <td>1.388060</td>\n    </tr>\n    <tr>\n      <th>188</th>\n      <td>(kaiser chiefs)</td>\n      <td>(the killers)</td>\n      <td>0.050812</td>\n      <td>0.110092</td>\n      <td>0.031052</td>\n      <td>0.611111</td>\n      <td>5.550926</td>\n      <td>0.025458</td>\n      <td>2.288336</td>\n    </tr>\n    <tr>\n      <th>189</th>\n      <td>(the killers)</td>\n      <td>(kaiser chiefs)</td>\n      <td>0.110092</td>\n      <td>0.050812</td>\n      <td>0.031052</td>\n      <td>0.282051</td>\n      <td>5.550926</td>\n      <td>0.025458</td>\n      <td>1.322084</td>\n    </tr>\n    <tr>\n      <th>105</th>\n      <td>(bloc party)</td>\n      <td>(interpol)</td>\n      <td>0.083275</td>\n      <td>0.079746</td>\n      <td>0.032463</td>\n      <td>0.389831</td>\n      <td>4.888406</td>\n      <td>0.025822</td>\n      <td>1.508194</td>\n    </tr>\n    <tr>\n      <th>...</th>\n      <td>...</td>\n      <td>...</td>\n      <td>...</td>\n      <td>...</td>\n      <td>...</td>\n      <td>...</td>\n      <td>...</td>\n      <td>...</td>\n      <td>...</td>\n    </tr>\n    <tr>\n      <th>52</th>\n      <td>(nirvana)</td>\n      <td>(Spain)</td>\n      <td>0.124912</td>\n      <td>0.355681</td>\n      <td>0.037403</td>\n      <td>0.299435</td>\n      <td>0.841864</td>\n      <td>-0.007026</td>\n      <td>0.919713</td>\n    </tr>\n    <tr>\n      <th>48</th>\n      <td>(metallica)</td>\n      <td>(Spain)</td>\n      <td>0.123500</td>\n      <td>0.355681</td>\n      <td>0.035286</td>\n      <td>0.285714</td>\n      <td>0.803288</td>\n      <td>-0.008641</td>\n      <td>0.902047</td>\n    </tr>\n    <tr>\n      <th>49</th>\n      <td>(Spain)</td>\n      <td>(metallica)</td>\n      <td>0.355681</td>\n      <td>0.123500</td>\n      <td>0.035286</td>\n      <td>0.099206</td>\n      <td>0.803288</td>\n      <td>-0.008641</td>\n      <td>0.973030</td>\n    </tr>\n    <tr>\n      <th>61</th>\n      <td>(radiohead)</td>\n      <td>(Spain)</td>\n      <td>0.237826</td>\n      <td>0.355681</td>\n      <td>0.062809</td>\n      <td>0.264095</td>\n      <td>0.742505</td>\n      <td>-0.021782</td>\n      <td>0.875546</td>\n    </tr>\n    <tr>\n      <th>60</th>\n      <td>(Spain)</td>\n      <td>(radiohead)</td>\n      <td>0.355681</td>\n      <td>0.237826</td>\n      <td>0.062809</td>\n      <td>0.176587</td>\n      <td>0.742505</td>\n      <td>-0.021782</td>\n      <td>0.925628</td>\n    </tr>\n  </tbody>\n</table>\n<p>294 rows × 9 columns</p>\n</div>"
     },
     "execution_count": 47,
     "metadata": {},
     "output_type": "execute_result"
    }
   ],
   "source": [
    "rules_lift = association_rules(frequent_itemsets_apriori, metric=\"lift\", min_threshold=0.5).sort_values(by='lift', ascending=False)\n",
    "rules_lift"
   ]
  },
  {
   "cell_type": "code",
   "execution_count": 48,
   "metadata": {},
   "outputs": [
    {
     "data": {
      "text/plain": "           antecedents      consequents  antecedent support  \\\n169  (franz ferdinand)  (kaiser chiefs)            0.095977   \n189      (the killers)  (kaiser chiefs)            0.110092   \n\n     consequent support   support  confidence      lift  leverage  conviction  \n169            0.050812  0.030346    0.316176  6.222529  0.025469    1.388060  \n189            0.050812  0.031052    0.282051  5.550926  0.025458    1.322084  ",
      "text/html": "<div>\n<style scoped>\n    .dataframe tbody tr th:only-of-type {\n        vertical-align: middle;\n    }\n\n    .dataframe tbody tr th {\n        vertical-align: top;\n    }\n\n    .dataframe thead th {\n        text-align: right;\n    }\n</style>\n<table border=\"1\" class=\"dataframe\">\n  <thead>\n    <tr style=\"text-align: right;\">\n      <th></th>\n      <th>antecedents</th>\n      <th>consequents</th>\n      <th>antecedent support</th>\n      <th>consequent support</th>\n      <th>support</th>\n      <th>confidence</th>\n      <th>lift</th>\n      <th>leverage</th>\n      <th>conviction</th>\n    </tr>\n  </thead>\n  <tbody>\n    <tr>\n      <th>169</th>\n      <td>(franz ferdinand)</td>\n      <td>(kaiser chiefs)</td>\n      <td>0.095977</td>\n      <td>0.050812</td>\n      <td>0.030346</td>\n      <td>0.316176</td>\n      <td>6.222529</td>\n      <td>0.025469</td>\n      <td>1.388060</td>\n    </tr>\n    <tr>\n      <th>189</th>\n      <td>(the killers)</td>\n      <td>(kaiser chiefs)</td>\n      <td>0.110092</td>\n      <td>0.050812</td>\n      <td>0.031052</td>\n      <td>0.282051</td>\n      <td>5.550926</td>\n      <td>0.025458</td>\n      <td>1.322084</td>\n    </tr>\n  </tbody>\n</table>\n</div>"
     },
     "execution_count": 48,
     "metadata": {},
     "output_type": "execute_result"
    }
   ],
   "source": [
    "#rules_lift.head(5)\n",
    "#любителям Franz Ferdinand и  The killer можно посоветовать Kaiser chiefs (т.к. KC менее популярны, чем FF и TK)\n",
    "rules_lift[(rules_lift['lift'] > 5.0) & ( rules_lift['conviction'] < 2.0)].head(5)"
   ]
  },
  {
   "cell_type": "code",
   "execution_count": 49,
   "metadata": {},
   "outputs": [
    {
     "data": {
      "text/plain": "   antecedents  consequents  antecedent support  consequent support   support  \\\n60     (Spain)  (radiohead)            0.355681            0.237826  0.062809   \n\n    confidence      lift  leverage  conviction  \n60    0.176587  0.742505 -0.021782    0.925628  ",
      "text/html": "<div>\n<style scoped>\n    .dataframe tbody tr th:only-of-type {\n        vertical-align: middle;\n    }\n\n    .dataframe tbody tr th {\n        vertical-align: top;\n    }\n\n    .dataframe thead th {\n        text-align: right;\n    }\n</style>\n<table border=\"1\" class=\"dataframe\">\n  <thead>\n    <tr style=\"text-align: right;\">\n      <th></th>\n      <th>antecedents</th>\n      <th>consequents</th>\n      <th>antecedent support</th>\n      <th>consequent support</th>\n      <th>support</th>\n      <th>confidence</th>\n      <th>lift</th>\n      <th>leverage</th>\n      <th>conviction</th>\n    </tr>\n  </thead>\n  <tbody>\n    <tr>\n      <th>60</th>\n      <td>(Spain)</td>\n      <td>(radiohead)</td>\n      <td>0.355681</td>\n      <td>0.237826</td>\n      <td>0.062809</td>\n      <td>0.176587</td>\n      <td>0.742505</td>\n      <td>-0.021782</td>\n      <td>0.925628</td>\n    </tr>\n  </tbody>\n</table>\n</div>"
     },
     "execution_count": 49,
     "metadata": {},
     "output_type": "execute_result"
    }
   ],
   "source": [
    "rules_lift2 = rules_lift[(rules_lift['consequents'] != frozenset('Spain'))\n",
    "                         &(rules_lift['consequents'] != frozenset('France'))\n",
    "                         &(rules_lift['consequents'] != frozenset('Portugal'))\n",
    "                         &(rules_lift['consequents'] != frozenset('Belgium'))\n",
    "                         &(rules_lift['consequents'] != frozenset('Italy'))\n",
    "                        & (rules_lift['support'] < 0.1)\n",
    "                        ].sort_values(by='lift', ascending=True)\n",
    "rules_lift2.head(1)\n",
    "#Radiohead не стоит ехать с большими концертами в Испанию, они там не особо популярны"
   ]
  },
  {
   "cell_type": "code",
   "execution_count": 50,
   "metadata": {},
   "outputs": [
    {
     "data": {
      "text/plain": "      antecedents    consequents  antecedent support  consequent support  \\\n0          (muse)        (Spain)            0.174312            0.355681   \n1         (Spain)         (muse)            0.355681            0.174312   \n2          (muse)    (radiohead)            0.174312            0.237826   \n3     (radiohead)         (muse)            0.237826            0.174312   \n4          (muse)     (coldplay)            0.174312            0.188426   \n5      (coldplay)         (muse)            0.188426            0.174312   \n6    (pink floyd)    (radiohead)            0.130558            0.237826   \n7     (radiohead)   (pink floyd)            0.237826            0.130558   \n8         (Italy)    (radiohead)            0.214538            0.237826   \n9     (radiohead)        (Italy)            0.237826            0.214538   \n10  (the beatles)    (radiohead)            0.174312            0.237826   \n11    (radiohead)  (the beatles)            0.237826            0.174312   \n12  (the beatles)        (Spain)            0.174312            0.355681   \n13        (Spain)  (the beatles)            0.355681            0.174312   \n14        (Spain)    (radiohead)            0.355681            0.237826   \n15    (radiohead)        (Spain)            0.237826            0.355681   \n16       (France)    (radiohead)            0.230769            0.237826   \n17    (radiohead)       (France)            0.237826            0.230769   \n18  (the killers)        (Spain)            0.110092            0.355681   \n19        (Spain)  (the killers)            0.355681            0.110092   \n20     (coldplay)  (the killers)            0.188426            0.110092   \n21  (the killers)     (coldplay)            0.110092            0.188426   \n22     (coldplay)    (radiohead)            0.188426            0.237826   \n23    (radiohead)     (coldplay)            0.237826            0.188426   \n24     (coldplay)        (Spain)            0.188426            0.355681   \n25        (Spain)     (coldplay)            0.355681            0.188426   \n26      (nirvana)    (radiohead)            0.124912            0.237826   \n27    (radiohead)      (nirvana)            0.237826            0.124912   \n\n     support  confidence      lift  leverage  conviction  \n0   0.067749    0.388664  1.092732  0.005749    1.053952  \n1   0.067749    0.190476  1.092732  0.005749    1.019968  \n2   0.080452    0.461538  1.940653  0.038996    1.415465  \n3   0.080452    0.338279  1.940653  0.038996    1.247789  \n4   0.068454    0.392713  2.084171  0.035610    1.336391  \n5   0.068454    0.363296  2.084171  0.035610    1.296816  \n6   0.055046    0.421622  1.772813  0.023996    1.317777  \n7   0.055046    0.231454  1.772813  0.023996    1.131282  \n8   0.060692    0.282895  1.189501  0.009669    1.062848  \n9   0.060692    0.255193  1.189501  0.009669    1.054585  \n10  0.070572    0.404858  1.702327  0.029116    1.280659  \n11  0.070572    0.296736  1.702327  0.029116    1.174080  \n12  0.055752    0.319838  0.899227 -0.006248    0.947302  \n13  0.055752    0.156746  0.899227 -0.006248    0.979169  \n14  0.062809    0.176587  0.742505 -0.021782    0.925628  \n15  0.062809    0.264095  0.742505 -0.021782    0.875546  \n16  0.062103    0.269113  1.131553  0.007220    1.042807  \n17  0.062103    0.261128  1.131553  0.007220    1.041087  \n18  0.059986    0.544872  1.531911  0.020828    1.415687  \n19  0.059986    0.168651  1.531911  0.020828    1.070439  \n20  0.055752    0.295880  2.687578  0.035007    1.263859  \n21  0.055752    0.506410  2.687578  0.035007    1.644227  \n22  0.083275    0.441948  1.858278  0.038462    1.365774  \n23  0.083275    0.350148  1.858278  0.038462    1.248860  \n24  0.071277    0.378277  1.063529  0.004258    1.036344  \n25  0.071277    0.200397  1.063529  0.004258    1.014971  \n26  0.051517    0.412429  1.734162  0.021810    1.297161  \n27  0.051517    0.216617  1.734162  0.021810    1.117063  ",
      "text/html": "<div>\n<style scoped>\n    .dataframe tbody tr th:only-of-type {\n        vertical-align: middle;\n    }\n\n    .dataframe tbody tr th {\n        vertical-align: top;\n    }\n\n    .dataframe thead th {\n        text-align: right;\n    }\n</style>\n<table border=\"1\" class=\"dataframe\">\n  <thead>\n    <tr style=\"text-align: right;\">\n      <th></th>\n      <th>antecedents</th>\n      <th>consequents</th>\n      <th>antecedent support</th>\n      <th>consequent support</th>\n      <th>support</th>\n      <th>confidence</th>\n      <th>lift</th>\n      <th>leverage</th>\n      <th>conviction</th>\n    </tr>\n  </thead>\n  <tbody>\n    <tr>\n      <th>0</th>\n      <td>(muse)</td>\n      <td>(Spain)</td>\n      <td>0.174312</td>\n      <td>0.355681</td>\n      <td>0.067749</td>\n      <td>0.388664</td>\n      <td>1.092732</td>\n      <td>0.005749</td>\n      <td>1.053952</td>\n    </tr>\n    <tr>\n      <th>1</th>\n      <td>(Spain)</td>\n      <td>(muse)</td>\n      <td>0.355681</td>\n      <td>0.174312</td>\n      <td>0.067749</td>\n      <td>0.190476</td>\n      <td>1.092732</td>\n      <td>0.005749</td>\n      <td>1.019968</td>\n    </tr>\n    <tr>\n      <th>2</th>\n      <td>(muse)</td>\n      <td>(radiohead)</td>\n      <td>0.174312</td>\n      <td>0.237826</td>\n      <td>0.080452</td>\n      <td>0.461538</td>\n      <td>1.940653</td>\n      <td>0.038996</td>\n      <td>1.415465</td>\n    </tr>\n    <tr>\n      <th>3</th>\n      <td>(radiohead)</td>\n      <td>(muse)</td>\n      <td>0.237826</td>\n      <td>0.174312</td>\n      <td>0.080452</td>\n      <td>0.338279</td>\n      <td>1.940653</td>\n      <td>0.038996</td>\n      <td>1.247789</td>\n    </tr>\n    <tr>\n      <th>4</th>\n      <td>(muse)</td>\n      <td>(coldplay)</td>\n      <td>0.174312</td>\n      <td>0.188426</td>\n      <td>0.068454</td>\n      <td>0.392713</td>\n      <td>2.084171</td>\n      <td>0.035610</td>\n      <td>1.336391</td>\n    </tr>\n    <tr>\n      <th>5</th>\n      <td>(coldplay)</td>\n      <td>(muse)</td>\n      <td>0.188426</td>\n      <td>0.174312</td>\n      <td>0.068454</td>\n      <td>0.363296</td>\n      <td>2.084171</td>\n      <td>0.035610</td>\n      <td>1.296816</td>\n    </tr>\n    <tr>\n      <th>6</th>\n      <td>(pink floyd)</td>\n      <td>(radiohead)</td>\n      <td>0.130558</td>\n      <td>0.237826</td>\n      <td>0.055046</td>\n      <td>0.421622</td>\n      <td>1.772813</td>\n      <td>0.023996</td>\n      <td>1.317777</td>\n    </tr>\n    <tr>\n      <th>7</th>\n      <td>(radiohead)</td>\n      <td>(pink floyd)</td>\n      <td>0.237826</td>\n      <td>0.130558</td>\n      <td>0.055046</td>\n      <td>0.231454</td>\n      <td>1.772813</td>\n      <td>0.023996</td>\n      <td>1.131282</td>\n    </tr>\n    <tr>\n      <th>8</th>\n      <td>(Italy)</td>\n      <td>(radiohead)</td>\n      <td>0.214538</td>\n      <td>0.237826</td>\n      <td>0.060692</td>\n      <td>0.282895</td>\n      <td>1.189501</td>\n      <td>0.009669</td>\n      <td>1.062848</td>\n    </tr>\n    <tr>\n      <th>9</th>\n      <td>(radiohead)</td>\n      <td>(Italy)</td>\n      <td>0.237826</td>\n      <td>0.214538</td>\n      <td>0.060692</td>\n      <td>0.255193</td>\n      <td>1.189501</td>\n      <td>0.009669</td>\n      <td>1.054585</td>\n    </tr>\n    <tr>\n      <th>10</th>\n      <td>(the beatles)</td>\n      <td>(radiohead)</td>\n      <td>0.174312</td>\n      <td>0.237826</td>\n      <td>0.070572</td>\n      <td>0.404858</td>\n      <td>1.702327</td>\n      <td>0.029116</td>\n      <td>1.280659</td>\n    </tr>\n    <tr>\n      <th>11</th>\n      <td>(radiohead)</td>\n      <td>(the beatles)</td>\n      <td>0.237826</td>\n      <td>0.174312</td>\n      <td>0.070572</td>\n      <td>0.296736</td>\n      <td>1.702327</td>\n      <td>0.029116</td>\n      <td>1.174080</td>\n    </tr>\n    <tr>\n      <th>12</th>\n      <td>(the beatles)</td>\n      <td>(Spain)</td>\n      <td>0.174312</td>\n      <td>0.355681</td>\n      <td>0.055752</td>\n      <td>0.319838</td>\n      <td>0.899227</td>\n      <td>-0.006248</td>\n      <td>0.947302</td>\n    </tr>\n    <tr>\n      <th>13</th>\n      <td>(Spain)</td>\n      <td>(the beatles)</td>\n      <td>0.355681</td>\n      <td>0.174312</td>\n      <td>0.055752</td>\n      <td>0.156746</td>\n      <td>0.899227</td>\n      <td>-0.006248</td>\n      <td>0.979169</td>\n    </tr>\n    <tr>\n      <th>14</th>\n      <td>(Spain)</td>\n      <td>(radiohead)</td>\n      <td>0.355681</td>\n      <td>0.237826</td>\n      <td>0.062809</td>\n      <td>0.176587</td>\n      <td>0.742505</td>\n      <td>-0.021782</td>\n      <td>0.925628</td>\n    </tr>\n    <tr>\n      <th>15</th>\n      <td>(radiohead)</td>\n      <td>(Spain)</td>\n      <td>0.237826</td>\n      <td>0.355681</td>\n      <td>0.062809</td>\n      <td>0.264095</td>\n      <td>0.742505</td>\n      <td>-0.021782</td>\n      <td>0.875546</td>\n    </tr>\n    <tr>\n      <th>16</th>\n      <td>(France)</td>\n      <td>(radiohead)</td>\n      <td>0.230769</td>\n      <td>0.237826</td>\n      <td>0.062103</td>\n      <td>0.269113</td>\n      <td>1.131553</td>\n      <td>0.007220</td>\n      <td>1.042807</td>\n    </tr>\n    <tr>\n      <th>17</th>\n      <td>(radiohead)</td>\n      <td>(France)</td>\n      <td>0.237826</td>\n      <td>0.230769</td>\n      <td>0.062103</td>\n      <td>0.261128</td>\n      <td>1.131553</td>\n      <td>0.007220</td>\n      <td>1.041087</td>\n    </tr>\n    <tr>\n      <th>18</th>\n      <td>(the killers)</td>\n      <td>(Spain)</td>\n      <td>0.110092</td>\n      <td>0.355681</td>\n      <td>0.059986</td>\n      <td>0.544872</td>\n      <td>1.531911</td>\n      <td>0.020828</td>\n      <td>1.415687</td>\n    </tr>\n    <tr>\n      <th>19</th>\n      <td>(Spain)</td>\n      <td>(the killers)</td>\n      <td>0.355681</td>\n      <td>0.110092</td>\n      <td>0.059986</td>\n      <td>0.168651</td>\n      <td>1.531911</td>\n      <td>0.020828</td>\n      <td>1.070439</td>\n    </tr>\n    <tr>\n      <th>20</th>\n      <td>(coldplay)</td>\n      <td>(the killers)</td>\n      <td>0.188426</td>\n      <td>0.110092</td>\n      <td>0.055752</td>\n      <td>0.295880</td>\n      <td>2.687578</td>\n      <td>0.035007</td>\n      <td>1.263859</td>\n    </tr>\n    <tr>\n      <th>21</th>\n      <td>(the killers)</td>\n      <td>(coldplay)</td>\n      <td>0.110092</td>\n      <td>0.188426</td>\n      <td>0.055752</td>\n      <td>0.506410</td>\n      <td>2.687578</td>\n      <td>0.035007</td>\n      <td>1.644227</td>\n    </tr>\n    <tr>\n      <th>22</th>\n      <td>(coldplay)</td>\n      <td>(radiohead)</td>\n      <td>0.188426</td>\n      <td>0.237826</td>\n      <td>0.083275</td>\n      <td>0.441948</td>\n      <td>1.858278</td>\n      <td>0.038462</td>\n      <td>1.365774</td>\n    </tr>\n    <tr>\n      <th>23</th>\n      <td>(radiohead)</td>\n      <td>(coldplay)</td>\n      <td>0.237826</td>\n      <td>0.188426</td>\n      <td>0.083275</td>\n      <td>0.350148</td>\n      <td>1.858278</td>\n      <td>0.038462</td>\n      <td>1.248860</td>\n    </tr>\n    <tr>\n      <th>24</th>\n      <td>(coldplay)</td>\n      <td>(Spain)</td>\n      <td>0.188426</td>\n      <td>0.355681</td>\n      <td>0.071277</td>\n      <td>0.378277</td>\n      <td>1.063529</td>\n      <td>0.004258</td>\n      <td>1.036344</td>\n    </tr>\n    <tr>\n      <th>25</th>\n      <td>(Spain)</td>\n      <td>(coldplay)</td>\n      <td>0.355681</td>\n      <td>0.188426</td>\n      <td>0.071277</td>\n      <td>0.200397</td>\n      <td>1.063529</td>\n      <td>0.004258</td>\n      <td>1.014971</td>\n    </tr>\n    <tr>\n      <th>26</th>\n      <td>(nirvana)</td>\n      <td>(radiohead)</td>\n      <td>0.124912</td>\n      <td>0.237826</td>\n      <td>0.051517</td>\n      <td>0.412429</td>\n      <td>1.734162</td>\n      <td>0.021810</td>\n      <td>1.297161</td>\n    </tr>\n    <tr>\n      <th>27</th>\n      <td>(radiohead)</td>\n      <td>(nirvana)</td>\n      <td>0.237826</td>\n      <td>0.124912</td>\n      <td>0.051517</td>\n      <td>0.216617</td>\n      <td>1.734162</td>\n      <td>0.021810</td>\n      <td>1.117063</td>\n    </tr>\n  </tbody>\n</table>\n</div>"
     },
     "execution_count": 50,
     "metadata": {},
     "output_type": "execute_result"
    }
   ],
   "source": [
    "rules_fpgrowth = association_rules(frequent_itemsets_fpgrowth, min_threshold=0.02, metric=\"confidence\")\n",
    "rules_fpgrowth"
   ]
  },
  {
   "cell_type": "code",
   "execution_count": 57,
   "outputs": [
    {
     "data": {
      "text/plain": "    antecedents consequents  antecedent support  consequent support   support  \\\n9   (radiohead)     (Italy)            0.237826            0.214538  0.060692   \n17  (radiohead)    (France)            0.237826            0.230769  0.062103   \n15  (radiohead)     (Spain)            0.237826            0.355681  0.062809   \n\n    confidence      lift  leverage  conviction  \n9     0.255193  1.189501  0.009669    1.054585  \n17    0.261128  1.131553  0.007220    1.041087  \n15    0.264095  0.742505 -0.021782    0.875546  ",
      "text/html": "<div>\n<style scoped>\n    .dataframe tbody tr th:only-of-type {\n        vertical-align: middle;\n    }\n\n    .dataframe tbody tr th {\n        vertical-align: top;\n    }\n\n    .dataframe thead th {\n        text-align: right;\n    }\n</style>\n<table border=\"1\" class=\"dataframe\">\n  <thead>\n    <tr style=\"text-align: right;\">\n      <th></th>\n      <th>antecedents</th>\n      <th>consequents</th>\n      <th>antecedent support</th>\n      <th>consequent support</th>\n      <th>support</th>\n      <th>confidence</th>\n      <th>lift</th>\n      <th>leverage</th>\n      <th>conviction</th>\n    </tr>\n  </thead>\n  <tbody>\n    <tr>\n      <th>9</th>\n      <td>(radiohead)</td>\n      <td>(Italy)</td>\n      <td>0.237826</td>\n      <td>0.214538</td>\n      <td>0.060692</td>\n      <td>0.255193</td>\n      <td>1.189501</td>\n      <td>0.009669</td>\n      <td>1.054585</td>\n    </tr>\n    <tr>\n      <th>17</th>\n      <td>(radiohead)</td>\n      <td>(France)</td>\n      <td>0.237826</td>\n      <td>0.230769</td>\n      <td>0.062103</td>\n      <td>0.261128</td>\n      <td>1.131553</td>\n      <td>0.007220</td>\n      <td>1.041087</td>\n    </tr>\n    <tr>\n      <th>15</th>\n      <td>(radiohead)</td>\n      <td>(Spain)</td>\n      <td>0.237826</td>\n      <td>0.355681</td>\n      <td>0.062809</td>\n      <td>0.264095</td>\n      <td>0.742505</td>\n      <td>-0.021782</td>\n      <td>0.875546</td>\n    </tr>\n  </tbody>\n</table>\n</div>"
     },
     "execution_count": 57,
     "metadata": {},
     "output_type": "execute_result"
    }
   ],
   "source": [
    "radiohead_lovers = rules_fpgrowth[\n",
    "        (rules_fpgrowth['antecedents'] == {'radiohead'})\n",
    "        & ((rules_fpgrowth['consequents'] == {'Spain'})\n",
    "            | (rules_fpgrowth['consequents'] == {'Portugal'})\n",
    "            | (rules_fpgrowth['consequents'] == {'France'})\n",
    "            | (rules_fpgrowth['consequents'] == {'Italy'})\n",
    "            | (rules_fpgrowth['consequents'] == {'Belgium'}))\n",
    "    ].sort_values(by='lift', ascending=False)\n",
    "radiohead_lovers\n",
    "\n",
    "#наиболее популярны radiohead в Италии и Франции"
   ],
   "metadata": {
    "collapsed": false,
    "pycharm": {
     "name": "#%%\n"
    }
   }
  },
  {
   "cell_type": "code",
   "execution_count": 66,
   "outputs": [
    {
     "data": {
      "text/plain": "      antecedents    consequents  antecedent support  consequent support  \\\n12  (the beatles)        (Spain)            0.174312            0.355681   \n13        (Spain)  (the beatles)            0.355681            0.174312   \n14        (Spain)    (radiohead)            0.355681            0.237826   \n15    (radiohead)        (Spain)            0.237826            0.355681   \n\n     support  confidence      lift  leverage  conviction  \n12  0.055752    0.319838  0.899227 -0.006248    0.947302  \n13  0.055752    0.156746  0.899227 -0.006248    0.979169  \n14  0.062809    0.176587  0.742505 -0.021782    0.925628  \n15  0.062809    0.264095  0.742505 -0.021782    0.875546  ",
      "text/html": "<div>\n<style scoped>\n    .dataframe tbody tr th:only-of-type {\n        vertical-align: middle;\n    }\n\n    .dataframe tbody tr th {\n        vertical-align: top;\n    }\n\n    .dataframe thead th {\n        text-align: right;\n    }\n</style>\n<table border=\"1\" class=\"dataframe\">\n  <thead>\n    <tr style=\"text-align: right;\">\n      <th></th>\n      <th>antecedents</th>\n      <th>consequents</th>\n      <th>antecedent support</th>\n      <th>consequent support</th>\n      <th>support</th>\n      <th>confidence</th>\n      <th>lift</th>\n      <th>leverage</th>\n      <th>conviction</th>\n    </tr>\n  </thead>\n  <tbody>\n    <tr>\n      <th>12</th>\n      <td>(the beatles)</td>\n      <td>(Spain)</td>\n      <td>0.174312</td>\n      <td>0.355681</td>\n      <td>0.055752</td>\n      <td>0.319838</td>\n      <td>0.899227</td>\n      <td>-0.006248</td>\n      <td>0.947302</td>\n    </tr>\n    <tr>\n      <th>13</th>\n      <td>(Spain)</td>\n      <td>(the beatles)</td>\n      <td>0.355681</td>\n      <td>0.174312</td>\n      <td>0.055752</td>\n      <td>0.156746</td>\n      <td>0.899227</td>\n      <td>-0.006248</td>\n      <td>0.979169</td>\n    </tr>\n    <tr>\n      <th>14</th>\n      <td>(Spain)</td>\n      <td>(radiohead)</td>\n      <td>0.355681</td>\n      <td>0.237826</td>\n      <td>0.062809</td>\n      <td>0.176587</td>\n      <td>0.742505</td>\n      <td>-0.021782</td>\n      <td>0.925628</td>\n    </tr>\n    <tr>\n      <th>15</th>\n      <td>(radiohead)</td>\n      <td>(Spain)</td>\n      <td>0.237826</td>\n      <td>0.355681</td>\n      <td>0.062809</td>\n      <td>0.264095</td>\n      <td>0.742505</td>\n      <td>-0.021782</td>\n      <td>0.875546</td>\n    </tr>\n  </tbody>\n</table>\n</div>"
     },
     "execution_count": 66,
     "metadata": {},
     "output_type": "execute_result"
    }
   ],
   "source": [
    "exceptions = rules_fpgrowth[rules_fpgrowth['conviction'] < 1.0]\n",
    "exceptions\n",
    "#т.к. conviction меньше 1, можно сказать, что данные правила скорее исключения (такие правила не работают)\n",
    "#lift < 1 => элементы чаще встречаются по отдельности\n",
    "# => the beatles и radiohead в Испании не популярны"
   ],
   "metadata": {
    "collapsed": false,
    "pycharm": {
     "name": "#%%\n"
    }
   }
  },
  {
   "cell_type": "code",
   "execution_count": 76,
   "outputs": [
    {
     "data": {
      "text/plain": "    antecedents              consequents  antecedent support  \\\n235   (nirvana)  (red hot chili peppers)            0.124912   \n202   (nirvana)              (metallica)            0.124912   \n\n     consequent support   support  confidence      lift  leverage  conviction  \n235             0.10374  0.033169    0.265537  2.559630  0.020210    1.220292  \n202             0.12350  0.034580    0.276836  2.241582  0.019153    1.212035  ",
      "text/html": "<div>\n<style scoped>\n    .dataframe tbody tr th:only-of-type {\n        vertical-align: middle;\n    }\n\n    .dataframe tbody tr th {\n        vertical-align: top;\n    }\n\n    .dataframe thead th {\n        text-align: right;\n    }\n</style>\n<table border=\"1\" class=\"dataframe\">\n  <thead>\n    <tr style=\"text-align: right;\">\n      <th></th>\n      <th>antecedents</th>\n      <th>consequents</th>\n      <th>antecedent support</th>\n      <th>consequent support</th>\n      <th>support</th>\n      <th>confidence</th>\n      <th>lift</th>\n      <th>leverage</th>\n      <th>conviction</th>\n    </tr>\n  </thead>\n  <tbody>\n    <tr>\n      <th>235</th>\n      <td>(nirvana)</td>\n      <td>(red hot chili peppers)</td>\n      <td>0.124912</td>\n      <td>0.10374</td>\n      <td>0.033169</td>\n      <td>0.265537</td>\n      <td>2.559630</td>\n      <td>0.020210</td>\n      <td>1.220292</td>\n    </tr>\n    <tr>\n      <th>202</th>\n      <td>(nirvana)</td>\n      <td>(metallica)</td>\n      <td>0.124912</td>\n      <td>0.12350</td>\n      <td>0.034580</td>\n      <td>0.276836</td>\n      <td>2.241582</td>\n      <td>0.019153</td>\n      <td>1.212035</td>\n    </tr>\n  </tbody>\n</table>\n</div>"
     },
     "execution_count": 76,
     "metadata": {},
     "output_type": "execute_result"
    }
   ],
   "source": [
    "for_nirvana_lovers = rules_lift[(rules_lift['antecedents'] == {'nirvana'}) & (rules_lift['lift'] > 2.0)]\n",
    "for_nirvana_lovers\n",
    "# любителям nirvana понравились бы red hot chili peppers и metallica"
   ],
   "metadata": {
    "collapsed": false,
    "pycharm": {
     "name": "#%%\n"
    }
   }
  }
 ],
 "metadata": {
  "kernelspec": {
   "display_name": "Python 3",
   "language": "python",
   "name": "python3"
  },
  "language_info": {
   "codemirror_mode": {
    "name": "ipython",
    "version": 3
   },
   "file_extension": ".py",
   "mimetype": "text/x-python",
   "name": "python",
   "nbconvert_exporter": "python",
   "pygments_lexer": "ipython3",
   "version": "3.8.5"
  }
 },
 "nbformat": 4,
 "nbformat_minor": 4
}